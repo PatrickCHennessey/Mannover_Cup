{
 "cells": [
  {
   "cell_type": "code",
   "execution_count": 1,
   "id": "2dbc1cbd-c36f-48df-823e-566673ebeb1c",
   "metadata": {},
   "outputs": [],
   "source": [
    "# Renamed file to reperesent season of data to be scraped"
   ]
  },
  {
   "cell_type": "code",
   "execution_count": 2,
   "id": "9ed972a4-aebe-4921-ba96-16f56c6b9781",
   "metadata": {},
   "outputs": [],
   "source": [
    "import pandas as pd\n",
    "import requests\n",
    "pd.set_option('display.max_columns', None) # so we can see all columns in a wide DataFrame\n",
    "import time\n",
    "import numpy as np"
   ]
  },
  {
   "cell_type": "code",
   "execution_count": null,
   "id": "d50622b6-1f4e-45b1-b770-089e48e4c528",
   "metadata": {},
   "outputs": [],
   "source": [
    "r = requests.get(url=).json()"
   ]
  }
 ],
 "metadata": {
  "kernelspec": {
   "display_name": "Python 3",
   "language": "python",
   "name": "python3"
  },
  "language_info": {
   "codemirror_mode": {
    "name": "ipython",
    "version": 3
   },
   "file_extension": ".py",
   "mimetype": "text/x-python",
   "name": "python",
   "nbconvert_exporter": "python",
   "pygments_lexer": "ipython3",
   "version": "3.8.8"
  }
 },
 "nbformat": 4,
 "nbformat_minor": 5
}
